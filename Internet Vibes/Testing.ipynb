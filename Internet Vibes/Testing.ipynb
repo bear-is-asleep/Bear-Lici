{
 "cells": [
  {
   "cell_type": "markdown",
   "metadata": {},
   "source": [
    "# Bear and Lici's testing"
   ]
  },
  {
   "cell_type": "markdown",
   "metadata": {},
   "source": [
    "## Brainstorms\n"
   ]
  },
  {
   "cell_type": "markdown",
   "metadata": {},
   "source": [
    "### Enviromental justice\n",
    "\n",
    "Alysia's ass can't fix climate change alone, we need YOUR help!"
   ]
  },
  {
   "cell_type": "markdown",
   "metadata": {},
   "source": [
    "### Modeling climate change based on human behavior\n",
    "* Link historical consumption data of various industries to climate change\n",
    "  * Use 100s if not 1000s of features (human behavior) and dozens of targets (climate change)\n",
    "* Emissions output based (dependent) on energy demand\n",
    "* Business is usual consideration - How much more is produced\n",
    "\n",
    "Time correlated data (RNN)?\n"
   ]
  },
  {
   "cell_type": "markdown",
   "metadata": {},
   "source": [
    "#### Natural behavior\n",
    "* Volcanos\n",
    "* Cycles\n",
    "  * Water\n",
    "  * Carbon\n",
    "* Solar irradiance\n",
    "* "
   ]
  },
  {
   "cell_type": "markdown",
   "metadata": {},
   "source": [
    "#### Human behavior\n",
    "* Raw material gathering\n",
    "  * Farms\n",
    "  * Mining\n",
    "  * Fishing\n",
    "    * Destruction of ecosystems\n",
    "  * Foresting\n",
    "* Transportation\n",
    "  * Public vs private (cars)\n",
    "  * Shipping\n",
    "* Consumption\n",
    "  * Food (meat/vegetarian)\n",
    "  * Clothes (a lot of waste)\n",
    "  * Electronics\n",
    "  * All raw materials that generate waste\n",
    "* Energy\n",
    "  * Fossil fuels\n",
    "  * Renewables \n",
    "  * Energy efficiency (more efficient technology)\n",
    "  * Energy demand\n",
    "* Politics\n",
    "  * Climate/energy initiatives\n",
    "  * Carbon taxes\n",
    "* Corperations\n",
    "  * Initiatives\n",
    "  * Cap and trade\n",
    "    * Emissions alotted per company\n",
    "* Individuals\n",
    "  * Carbon footprint\n",
    "  * Person per region\n",
    "    * Urban vs. rural\n",
    "  * Poverty level\n",
    "    "
   ]
  },
  {
   "cell_type": "markdown",
   "metadata": {},
   "source": [
    "#### Climate\n",
    "* Climate\n",
    "  * Rainfall\n",
    "  * Temperature\n",
    "* Greenhouse gasses\n",
    "  * Methane\n",
    "  * CO $_2$\n",
    "  * H $_2$ O\n",
    "  * N $_2$ O\n",
    "  * F gasses\n",
    "* Ocean levels\n",
    "* Earth's albedo (arctic regions)\n",
    "* Natural disasters\n",
    "  * Hurricanes\n",
    "  * Tornadoes\n",
    "  * Fires\n",
    "  * Earthquakes?\n",
    "  * Floods\n"
   ]
  },
  {
   "cell_type": "markdown",
   "metadata": {},
   "source": [
    "## Code"
   ]
  },
  {
   "cell_type": "code",
   "execution_count": null,
   "metadata": {},
   "outputs": [],
   "source": [
    "#Imports\n",
    "import numpy as np\n",
    "import matplotlib.pyplot as plt"
   ]
  },
  {
   "cell_type": "code",
   "execution_count": null,
   "metadata": {},
   "outputs": [],
   "source": []
  }
 ],
 "metadata": {
  "language_info": {
   "name": "python"
  },
  "orig_nbformat": 4
 },
 "nbformat": 4,
 "nbformat_minor": 2
}
